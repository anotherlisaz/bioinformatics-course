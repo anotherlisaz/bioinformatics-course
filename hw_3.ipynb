{
 "cells": [
  {
   "cell_type": "markdown",
   "id": "cb15c3d2-435f-4a7b-b432-af5cd72bfddf",
   "metadata": {},
   "source": [
    "### Библиотеки"
   ]
  },
  {
   "cell_type": "code",
   "execution_count": 23,
   "id": "30ce26ae-3e77-4f0a-bde8-7759e9f593ed",
   "metadata": {},
   "outputs": [],
   "source": [
    "import numpy as np\n",
    "import random"
   ]
  },
  {
   "cell_type": "markdown",
   "id": "980d1f44-9896-471f-a4fd-c3deb1b28d36",
   "metadata": {},
   "source": [
    "### Реализации алгоритмов Нидлмана-Вунша и Смита-Вотермана"
   ]
  },
  {
   "cell_type": "code",
   "execution_count": 55,
   "id": "e4796d1a-8c54-489e-b77c-c5e9829feb27",
   "metadata": {},
   "outputs": [],
   "source": [
    "def needleman_wunsch(seq1, seq2, match=1, mismatch=-1, gap=-1):\n",
    "    n, m = len(seq1), len(seq2)\n",
    "    score_matrix = np.zeros((n+1, m+1))\n",
    "    traceback = np.zeros((n+1, m+1), dtype=object)\n",
    "    \n",
    "    for i in range(n+1):\n",
    "        score_matrix[i][0] = i * gap\n",
    "        traceback[i][0] = \"U\"\n",
    "    for j in range(m+1):\n",
    "        score_matrix[0][j] = j * gap\n",
    "        traceback[0][j] = \"L\"\n",
    "    \n",
    "    traceback[0][0] = \"END\"\n",
    "    \n",
    "    for i in range(1, n+1):\n",
    "        for j in range(1, m+1):\n",
    "            match_score = score_matrix[i-1][j-1] + (match if seq1[i-1] == seq2[j-1] else mismatch)\n",
    "            delete = score_matrix[i-1][j] + gap\n",
    "            insert = score_matrix[i][j-1] + gap\n",
    "            max_score = max(match_score, delete, insert)\n",
    "            score_matrix[i][j] = max_score\n",
    "            \n",
    "            if max_score == match_score:\n",
    "                traceback[i][j] = \"D\"\n",
    "            elif max_score == delete:\n",
    "                traceback[i][j] = \"U\"\n",
    "            else:\n",
    "                traceback[i][j] = \"L\"\n",
    "    \n",
    "    return score_matrix, traceback"
   ]
  },
  {
   "cell_type": "code",
   "execution_count": 56,
   "id": "8deccdba-82d2-4397-9f1c-f72f69c836fb",
   "metadata": {},
   "outputs": [],
   "source": [
    "def traceback_needleman_wunsch(seq1, seq2, traceback):\n",
    "    aligned_seq1, aligned_seq2 = \"\", \"\"\n",
    "    i, j = len(seq1), len(seq2)\n",
    "    while traceback[i][j] != \"END\":\n",
    "        if traceback[i][j] == \"D\":\n",
    "            aligned_seq1 = seq1[i-1] + aligned_seq1\n",
    "            aligned_seq2 = seq2[j-1] + aligned_seq2\n",
    "            i -= 1\n",
    "            j -= 1\n",
    "        elif traceback[i][j] == \"U\":\n",
    "            aligned_seq1 = seq1[i-1] + aligned_seq1\n",
    "            aligned_seq2 = \"-\" + aligned_seq2\n",
    "            i -= 1\n",
    "        else:\n",
    "            aligned_seq1 = \"-\" + aligned_seq1\n",
    "            aligned_seq2 = seq2[j-1] + aligned_seq2\n",
    "            j -= 1\n",
    "    return aligned_seq1, aligned_seq2"
   ]
  },
  {
   "cell_type": "code",
   "execution_count": 57,
   "id": "6e883f82-a03c-49e1-a7c0-caa46e7709b6",
   "metadata": {},
   "outputs": [],
   "source": [
    "def smith_waterman(seq1, seq2, match=1, mismatch=-1, gap=-1):\n",
    "    n, m = len(seq1), len(seq2)\n",
    "    score_matrix = np.zeros((n+1, m+1))\n",
    "    max_i, max_j, max_score = 0, 0, 0\n",
    "    \n",
    "    for i in range(1, n+1):\n",
    "        for j in range(1, m+1):\n",
    "            match_score = score_matrix[i-1][j-1] + (match if seq1[i-1] == seq2[j-1] else mismatch)\n",
    "            delete = score_matrix[i-1][j] + gap\n",
    "            insert = score_matrix[i][j-1] + gap\n",
    "            score_matrix[i][j] = max(0, match_score, delete, insert)\n",
    "            \n",
    "            if score_matrix[i][j] > max_score:\n",
    "                max_score = score_matrix[i][j]\n",
    "                max_i, max_j = i, j\n",
    "    \n",
    "    return score_matrix, max_i, max_j"
   ]
  },
  {
   "cell_type": "code",
   "execution_count": 58,
   "id": "cc12dc48-f546-4635-aedb-2a17cc62a748",
   "metadata": {},
   "outputs": [],
   "source": [
    "def traceback_smith_waterman(seq1, seq2, score_matrix, max_i, max_j, match=1, mismatch=-1, gap=-1):\n",
    "    aligned_seq1, aligned_seq2 = \"\", \"\"\n",
    "    i, j = max_i, max_j\n",
    "    while i > 0 and j > 0 and score_matrix[i][j] > 0:\n",
    "        match_score = score_matrix[i-1][j-1] + (match if seq1[i-1] == seq2[j-1] else mismatch)\n",
    "        if score_matrix[i][j] == match_score:\n",
    "            aligned_seq1 = seq1[i-1] + aligned_seq1\n",
    "            aligned_seq2 = seq2[j-1] + aligned_seq2\n",
    "            i -= 1\n",
    "            j -= 1\n",
    "        elif score_matrix[i][j] == score_matrix[i-1][j] + gap:\n",
    "            aligned_seq1 = seq1[i-1] + aligned_seq1\n",
    "            aligned_seq2 = \"-\" + aligned_seq2\n",
    "            i -= 1\n",
    "        else:\n",
    "            aligned_seq1 = \"-\" + aligned_seq1\n",
    "            aligned_seq2 = seq2[j-1] + aligned_seq2\n",
    "            j -= 1\n",
    "    \n",
    "    return aligned_seq1, aligned_seq2"
   ]
  },
  {
   "cell_type": "markdown",
   "id": "9f6994fa-97d0-4f7d-b304-01fac59e1a15",
   "metadata": {},
   "source": [
    "### Примеры"
   ]
  },
  {
   "cell_type": "code",
   "execution_count": 59,
   "id": "54a320a9-5454-47b7-b651-20639bec0f16",
   "metadata": {},
   "outputs": [
    {
     "name": "stdout",
     "output_type": "stream",
     "text": [
      "Последовательности:GACGAAG, ACCAAG\n",
      "\n",
      "Матрица Нидлмана-Вунша:\n",
      "[[ 0. -1. -2. -3. -4. -5. -6.]\n",
      " [-1. -1. -2. -3. -4. -5. -4.]\n",
      " [-2.  0. -1. -2. -2. -3. -4.]\n",
      " [-3. -1.  1.  0. -1. -2. -3.]\n",
      " [-4. -2.  0.  0. -1. -2. -1.]\n",
      " [-5. -3. -1. -1.  1.  0. -1.]\n",
      " [-6. -4. -2. -2.  0.  2.  1.]\n",
      " [-7. -5. -3. -3. -1.  1.  3.]]\n",
      "Глобальное выравнивание:\n",
      "GACGAAG\n",
      "-ACCAAG\n",
      "\n",
      "Матрица Смита-Вотермана:\n",
      "[[0. 0. 0. 0. 0. 0. 0.]\n",
      " [0. 0. 0. 0. 0. 0. 1.]\n",
      " [0. 1. 0. 0. 1. 1. 0.]\n",
      " [0. 0. 2. 1. 0. 0. 0.]\n",
      " [0. 0. 1. 1. 0. 0. 1.]\n",
      " [0. 1. 0. 0. 2. 1. 0.]\n",
      " [0. 1. 0. 0. 1. 3. 2.]\n",
      " [0. 0. 0. 0. 0. 2. 4.]]\n",
      "Локальное выравнивание:\n",
      "ACGAAG\n",
      "ACCAAG\n"
     ]
    }
   ],
   "source": [
    "seq1 = \"GACGAAG\"\n",
    "seq2 = \"ACCAAG\"\n",
    "print(\"Последовательности:\" + seq1 + \", \" + seq2)\n",
    "\n",
    "print(\"\\nМатрица Нидлмана-Вунша:\")\n",
    "nw_matrix, nw_traceback = needleman_wunsch(seq1, seq2)\n",
    "print(nw_matrix)\n",
    "nw_aln1, nw_aln2 = traceback_needleman_wunsch(seq1, seq2, nw_traceback)\n",
    "print(\"Глобальное выравнивание:\")\n",
    "print(nw_aln1)\n",
    "print(nw_aln2)\n",
    "\n",
    "print(\"\\nМатрица Смита-Вотермана:\")\n",
    "sw_matrix, max_i, max_j = smith_waterman(seq1, seq2)\n",
    "print(sw_matrix)\n",
    "sw_aln1, sw_aln2 = traceback_smith_waterman(seq1, seq2, sw_matrix, max_i, max_j)\n",
    "print(\"Локальное выравнивание:\")\n",
    "print(sw_aln1)\n",
    "print(sw_aln2)"
   ]
  },
  {
   "cell_type": "code",
   "execution_count": 60,
   "id": "f8da94ce-f5a2-42e6-a31f-3e7e88ca1a78",
   "metadata": {},
   "outputs": [
    {
     "name": "stdout",
     "output_type": "stream",
     "text": [
      "Последовательности:GAACGTAGCGC, GAACGAAGCCCC\n",
      "\n",
      "Матрица Нидлмана-Вунша:\n",
      "[[  0.  -1.  -2.  -3.  -4.  -5.  -6.  -7.  -8.  -9. -10. -11. -12.]\n",
      " [ -1.   1.   0.  -1.  -2.  -3.  -4.  -5.  -6.  -7.  -8.  -9. -10.]\n",
      " [ -2.   0.   2.   1.   0.  -1.  -2.  -3.  -4.  -5.  -6.  -7.  -8.]\n",
      " [ -3.  -1.   1.   3.   2.   1.   0.  -1.  -2.  -3.  -4.  -5.  -6.]\n",
      " [ -4.  -2.   0.   2.   4.   3.   2.   1.   0.  -1.  -2.  -3.  -4.]\n",
      " [ -5.  -3.  -1.   1.   3.   5.   4.   3.   2.   1.   0.  -1.  -2.]\n",
      " [ -6.  -4.  -2.   0.   2.   4.   4.   3.   2.   1.   0.  -1.  -2.]\n",
      " [ -7.  -5.  -3.  -1.   1.   3.   5.   5.   4.   3.   2.   1.   0.]\n",
      " [ -8.  -6.  -4.  -2.   0.   2.   4.   4.   6.   5.   4.   3.   2.]\n",
      " [ -9.  -7.  -5.  -3.  -1.   1.   3.   3.   5.   7.   6.   5.   4.]\n",
      " [-10.  -8.  -6.  -4.  -2.   0.   2.   2.   4.   6.   6.   5.   4.]\n",
      " [-11.  -9.  -7.  -5.  -3.  -1.   1.   1.   3.   5.   7.   7.   6.]]\n",
      "Глобальное выравнивание:\n",
      "GAACGTAG-CGC\n",
      "GAACGAAGCCCC\n",
      "\n",
      "Матрица Смита-Вотермана:\n",
      "[[0. 0. 0. 0. 0. 0. 0. 0. 0. 0. 0. 0. 0.]\n",
      " [0. 1. 0. 0. 0. 1. 0. 0. 1. 0. 0. 0. 0.]\n",
      " [0. 0. 2. 1. 0. 0. 2. 1. 0. 0. 0. 0. 0.]\n",
      " [0. 0. 1. 3. 2. 1. 1. 3. 2. 1. 0. 0. 0.]\n",
      " [0. 0. 0. 2. 4. 3. 2. 2. 2. 3. 2. 1. 1.]\n",
      " [0. 1. 0. 1. 3. 5. 4. 3. 3. 2. 2. 1. 0.]\n",
      " [0. 0. 0. 0. 2. 4. 4. 3. 2. 2. 1. 1. 0.]\n",
      " [0. 0. 1. 1. 1. 3. 5. 5. 4. 3. 2. 1. 0.]\n",
      " [0. 1. 0. 0. 0. 2. 4. 4. 6. 5. 4. 3. 2.]\n",
      " [0. 0. 0. 0. 1. 1. 3. 3. 5. 7. 6. 5. 4.]\n",
      " [0. 1. 0. 0. 0. 2. 2. 2. 4. 6. 6. 5. 4.]\n",
      " [0. 0. 0. 0. 1. 1. 1. 1. 3. 5. 7. 7. 6.]]\n",
      "Локальное выравнивание:\n",
      "GAACGTAGC\n",
      "GAACGAAGC\n"
     ]
    }
   ],
   "source": [
    "seq1 = \"GAACGTAGCGC\"\n",
    "seq2 = \"GAACGAAGCCCC\"\n",
    "print(\"Последовательности:\" + seq1 + \", \" + seq2)\n",
    "\n",
    "print(\"\\nМатрица Нидлмана-Вунша:\")\n",
    "nw_matrix, nw_traceback = needleman_wunsch(seq1, seq2)\n",
    "print(nw_matrix)\n",
    "nw_aln1, nw_aln2 = traceback_needleman_wunsch(seq1, seq2, nw_traceback)\n",
    "print(\"Глобальное выравнивание:\")\n",
    "print(nw_aln1)\n",
    "print(nw_aln2)\n",
    "\n",
    "print(\"\\nМатрица Смита-Вотермана:\")\n",
    "sw_matrix, max_i, max_j = smith_waterman(seq1, seq2)\n",
    "print(sw_matrix)\n",
    "sw_aln1, sw_aln2 = traceback_smith_waterman(seq1, seq2, sw_matrix, max_i, max_j)\n",
    "print(\"Локальное выравнивание:\")\n",
    "print(sw_aln1)\n",
    "print(sw_aln2)"
   ]
  },
  {
   "cell_type": "code",
   "execution_count": 61,
   "id": "04c24d7a-0add-45b2-99c2-82c46d694d3a",
   "metadata": {},
   "outputs": [
    {
     "name": "stdout",
     "output_type": "stream",
     "text": [
      "Последовательности:ACGGCTGACGCGAT, GGGCAGCAGTCAG\n",
      "\n",
      "Матрица Нидлмана-Вунша:\n",
      "[[  0.  -1.  -2.  -3.  -4.  -5.  -6.  -7.  -8.  -9. -10. -11. -12. -13.]\n",
      " [ -1.  -1.  -2.  -3.  -4.  -3.  -4.  -5.  -6.  -7.  -8.  -9. -10. -11.]\n",
      " [ -2.  -2.  -2.  -3.  -2.  -3.  -4.  -3.  -4.  -5.  -6.  -7.  -8.  -9.]\n",
      " [ -3.  -1.  -1.  -1.  -2.  -3.  -2.  -3.  -4.  -3.  -4.  -5.  -6.  -7.]\n",
      " [ -4.  -2.   0.   0.  -1.  -2.  -2.  -3.  -4.  -3.  -4.  -5.  -6.  -5.]\n",
      " [ -5.  -3.  -1.  -1.   1.   0.  -1.  -1.  -2.  -3.  -4.  -3.  -4.  -5.]\n",
      " [ -6.  -4.  -2.  -2.   0.   0.  -1.  -2.  -2.  -3.  -2.  -3.  -4.  -5.]\n",
      " [ -7.  -5.  -3.  -1.  -1.  -1.   1.   0.  -1.  -1.  -2.  -3.  -4.  -3.]\n",
      " [ -8.  -6.  -4.  -2.  -2.   0.   0.   0.   1.   0.  -1.  -2.  -2.  -3.]\n",
      " [ -9.  -7.  -5.  -3.  -1.  -1.  -1.   1.   0.   0.  -1.   0.  -1.  -2.]\n",
      " [-10.  -8.  -6.  -4.  -2.  -2.   0.   0.   0.   1.   0.  -1.  -1.   0.]\n",
      " [-11.  -9.  -7.  -5.  -3.  -3.  -1.   1.   0.   0.   0.   1.   0.  -1.]\n",
      " [-12. -10.  -8.  -6.  -4.  -4.  -2.   0.   0.   1.   0.   0.   0.   1.]\n",
      " [-13. -11.  -9.  -7.  -5.  -3.  -3.  -1.   1.   0.   0.  -1.   1.   0.]\n",
      " [-14. -12. -10.  -8.  -6.  -4.  -4.  -2.   0.   0.   1.   0.   0.   0.]]\n",
      "Глобальное выравнивание:\n",
      "ACGGCTG-ACG-CGAT\n",
      "-GGGCAGCA-GTC-AG\n",
      "\n",
      "Матрица Смита-Вотермана:\n",
      "[[0. 0. 0. 0. 0. 0. 0. 0. 0. 0. 0. 0. 0. 0.]\n",
      " [0. 0. 0. 0. 0. 1. 0. 0. 1. 0. 0. 0. 1. 0.]\n",
      " [0. 0. 0. 0. 1. 0. 0. 1. 0. 0. 0. 1. 0. 0.]\n",
      " [0. 1. 1. 1. 0. 0. 1. 0. 0. 1. 0. 0. 0. 1.]\n",
      " [0. 1. 2. 2. 1. 0. 1. 0. 0. 1. 0. 0. 0. 1.]\n",
      " [0. 0. 1. 1. 3. 2. 1. 2. 1. 0. 0. 1. 0. 0.]\n",
      " [0. 0. 0. 0. 2. 2. 1. 1. 1. 0. 1. 0. 0. 0.]\n",
      " [0. 1. 1. 1. 1. 1. 3. 2. 1. 2. 1. 0. 0. 1.]\n",
      " [0. 0. 0. 0. 0. 2. 2. 2. 3. 2. 1. 0. 1. 0.]\n",
      " [0. 0. 0. 0. 1. 1. 1. 3. 2. 2. 1. 2. 1. 0.]\n",
      " [0. 1. 1. 1. 0. 0. 2. 2. 2. 3. 2. 1. 1. 2.]\n",
      " [0. 0. 0. 0. 2. 1. 1. 3. 2. 2. 2. 3. 2. 1.]\n",
      " [0. 1. 1. 1. 1. 1. 2. 2. 2. 3. 2. 2. 2. 3.]\n",
      " [0. 0. 0. 0. 0. 2. 1. 1. 3. 2. 2. 1. 3. 2.]\n",
      " [0. 0. 0. 0. 0. 1. 1. 0. 2. 2. 3. 2. 2. 2.]]\n",
      "Локальное выравнивание:\n",
      "GGC\n",
      "GGC\n"
     ]
    }
   ],
   "source": [
    "seq1 = \"ACGGCTGACGCGAT\"\n",
    "seq2 = \"GGGCAGCAGTCAG\"\n",
    "print(\"Последовательности:\" + seq1 + \", \" + seq2)\n",
    "\n",
    "print(\"\\nМатрица Нидлмана-Вунша:\")\n",
    "nw_matrix, nw_traceback = needleman_wunsch(seq1, seq2)\n",
    "print(nw_matrix)\n",
    "nw_aln1, nw_aln2 = traceback_needleman_wunsch(seq1, seq2, nw_traceback)\n",
    "print(\"Глобальное выравнивание:\")\n",
    "print(nw_aln1)\n",
    "print(nw_aln2)\n",
    "\n",
    "print(\"\\nМатрица Смита-Вотермана:\")\n",
    "sw_matrix, max_i, max_j = smith_waterman(seq1, seq2)\n",
    "print(sw_matrix)\n",
    "sw_aln1, sw_aln2 = traceback_smith_waterman(seq1, seq2, sw_matrix, max_i, max_j)\n",
    "print(\"Локальное выравнивание:\")\n",
    "print(sw_aln1)\n",
    "print(sw_aln2)"
   ]
  },
  {
   "cell_type": "markdown",
   "id": "c582a9e4-e012-4ab7-888f-20cb0e08d55c",
   "metadata": {},
   "source": [
    "### Выравнивание через Python"
   ]
  },
  {
   "cell_type": "code",
   "execution_count": 37,
   "id": "69203d25-3af4-41be-981e-15f1354ad361",
   "metadata": {},
   "outputs": [],
   "source": [
    "from Bio.Align import Alignment\n",
    "from Bio import Align"
   ]
  },
  {
   "cell_type": "code",
   "execution_count": 48,
   "id": "c2b93ca7-f4a6-412b-b7ad-5e0d1dfe081c",
   "metadata": {},
   "outputs": [],
   "source": [
    "seq1 = \"GACGAAG\"\n",
    "seq2 = \"ACCAAG\""
   ]
  },
  {
   "cell_type": "code",
   "execution_count": 62,
   "id": "a49970d0-4603-485f-bedc-7a0a5bd3204e",
   "metadata": {},
   "outputs": [],
   "source": [
    "seq3 = \"GAACGTAGCGC\"\n",
    "seq4 = \"GAACGAAGCCCC\""
   ]
  },
  {
   "cell_type": "code",
   "execution_count": 63,
   "id": "3258a547-7aca-4a76-b8b3-d6e487218dc7",
   "metadata": {},
   "outputs": [],
   "source": [
    "seq5 = \"ACGGCTGACGCGAT\"\n",
    "seq6 = \"GGGCAGCAGTCAG\""
   ]
  },
  {
   "cell_type": "markdown",
   "id": "8820d721-978f-4bca-9ef1-14f88def7b36",
   "metadata": {},
   "source": [
    "#### Смит-Вотерман"
   ]
  },
  {
   "cell_type": "code",
   "execution_count": 49,
   "id": "73888ffb-7aec-4b34-b191-ceb2c9e040aa",
   "metadata": {},
   "outputs": [],
   "source": [
    "aligner_1 = Align.PairwiseAligner()\n",
    "\n",
    "aligner_1.mode = \"local\"  # Локальное выравнивание\n",
    "aligner_1.match_score = 1.0  \n",
    "aligner_1.mismatch_score = -1.0 \n",
    "aligner_1.open_gap_score = -1.0 \n",
    "aligner_1.extend_gap_score = -1.0 "
   ]
  },
  {
   "cell_type": "code",
   "execution_count": 50,
   "id": "3731183d-cf59-4103-b7df-8484b6f6ca57",
   "metadata": {},
   "outputs": [],
   "source": [
    "alignments_1 = aligner_1.align(seq1, seq2)"
   ]
  },
  {
   "cell_type": "code",
   "execution_count": 51,
   "id": "c333620a-58b1-45cd-b254-b317eb510ba8",
   "metadata": {},
   "outputs": [
    {
     "name": "stdout",
     "output_type": "stream",
     "text": [
      "target            1 ACGAAG 7\n",
      "                  0 ||.||| 6\n",
      "query             0 ACCAAG 6\n",
      "\n"
     ]
    }
   ],
   "source": [
    "for alignment in alignments_1:\n",
    "\n",
    "    print(alignment)"
   ]
  },
  {
   "cell_type": "code",
   "execution_count": 64,
   "id": "3c1583ee-dbfd-4652-84e0-45bb44d66cf5",
   "metadata": {},
   "outputs": [],
   "source": [
    "alignments_1 = aligner_1.align(seq3, seq4)"
   ]
  },
  {
   "cell_type": "code",
   "execution_count": 65,
   "id": "c572ec4b-30b7-4363-9431-730c1088deb6",
   "metadata": {},
   "outputs": [
    {
     "name": "stdout",
     "output_type": "stream",
     "text": [
      "target            0 GAACGTAGC 9\n",
      "                  0 |||||.||| 9\n",
      "query             0 GAACGAAGC 9\n",
      "\n"
     ]
    }
   ],
   "source": [
    "for alignment in alignments_1:\n",
    "\n",
    "    print(alignment)"
   ]
  },
  {
   "cell_type": "code",
   "execution_count": 66,
   "id": "5d3b87e2-4854-48bc-b2df-9e565403d0f2",
   "metadata": {},
   "outputs": [],
   "source": [
    "alignments_1 = aligner_1.align(seq5, seq6)"
   ]
  },
  {
   "cell_type": "code",
   "execution_count": 67,
   "id": "b75237de-69ca-4467-980a-2a259dfc93b8",
   "metadata": {},
   "outputs": [
    {
     "name": "stdout",
     "output_type": "stream",
     "text": [
      "target            2 GGC 5\n",
      "                  0 ||| 3\n",
      "query             1 GGC 4\n",
      "\n"
     ]
    }
   ],
   "source": [
    "for alignment in alignments_1:\n",
    "\n",
    "    print(alignment)"
   ]
  },
  {
   "cell_type": "markdown",
   "id": "a353aafb-7654-462b-89ea-58bc5078ee46",
   "metadata": {},
   "source": [
    "#### Нидлман-Вунш"
   ]
  },
  {
   "cell_type": "code",
   "execution_count": 52,
   "id": "1af9e81a-3802-44ad-9b2f-e028ffffc06c",
   "metadata": {},
   "outputs": [],
   "source": [
    "aligner_2 = Align.PairwiseAligner()\n",
    "\n",
    "aligner_2.mode = \"global\"  # Глобальное выравнивание\n",
    "aligner_2.match_score = 1.0\n",
    "aligner_2.mismatch_score = -1.0\n",
    "aligner_2.open_gap_score = -1.0\n",
    "aligner_2.extend_gap_score = -1.0"
   ]
  },
  {
   "cell_type": "code",
   "execution_count": 53,
   "id": "a89e84dd-9318-426d-acca-373581470622",
   "metadata": {},
   "outputs": [],
   "source": [
    "alignments_2 = aligner_2.align(seq1, seq2)"
   ]
  },
  {
   "cell_type": "code",
   "execution_count": 54,
   "id": "56793ccd-e6f9-41ff-8df9-4a629731d322",
   "metadata": {},
   "outputs": [
    {
     "name": "stdout",
     "output_type": "stream",
     "text": [
      "target            0 GACGAAG 7\n",
      "                  0 -||.||| 7\n",
      "query             0 -ACCAAG 6\n",
      "\n"
     ]
    }
   ],
   "source": [
    "for alignment in alignments_2:\n",
    "\n",
    "    print(alignment)"
   ]
  },
  {
   "cell_type": "code",
   "execution_count": 68,
   "id": "ce10fcce-6e2d-46b7-bb45-082237d9d659",
   "metadata": {},
   "outputs": [],
   "source": [
    "alignments_2 = aligner_2.align(seq3, seq4)"
   ]
  },
  {
   "cell_type": "code",
   "execution_count": 69,
   "id": "4b1c896b-05d6-4fa7-91c0-9eda5207003f",
   "metadata": {},
   "outputs": [
    {
     "name": "stdout",
     "output_type": "stream",
     "text": [
      "target            0 GAACGTAGCGC- 11\n",
      "                  0 |||||.|||.|- 12\n",
      "query             0 GAACGAAGCCCC 12\n",
      "\n",
      "target            0 GAACGTAGCG-C 11\n",
      "                  0 |||||.|||.-| 12\n",
      "query             0 GAACGAAGCCCC 12\n",
      "\n",
      "target            0 GAACGTAGC-GC 11\n",
      "                  0 |||||.|||-.| 12\n",
      "query             0 GAACGAAGCCCC 12\n",
      "\n",
      "target            0 GAACGTAG-CGC 11\n",
      "                  0 |||||.||-|.| 12\n",
      "query             0 GAACGAAGCCCC 12\n",
      "\n"
     ]
    }
   ],
   "source": [
    "for alignment in alignments_2:\n",
    "\n",
    "    print(alignment)"
   ]
  },
  {
   "cell_type": "code",
   "execution_count": 70,
   "id": "c016bf2a-fbd0-493c-b985-68cb67178e21",
   "metadata": {},
   "outputs": [],
   "source": [
    "alignments_2 = aligner_2.align(seq5, seq6)"
   ]
  },
  {
   "cell_type": "code",
   "execution_count": 71,
   "id": "4da17af7-afde-4ac3-b430-d789cc9dd1f4",
   "metadata": {},
   "outputs": [
    {
     "name": "stdout",
     "output_type": "stream",
     "text": [
      "target            0 ACGGCTGAC-G-CGAT 14\n",
      "                  0 .-|||.|-|-|-|-|. 16\n",
      "query             0 G-GGCAG-CAGTC-AG 13\n",
      "\n",
      "target            0 ACGGCTGAC-G-CGAT 14\n",
      "                  0 -.|||.|-|-|-|-|. 16\n",
      "query             0 -GGGCAG-CAGTC-AG 13\n",
      "\n",
      "target            0 ACGGCTG-ACG-CGAT 14\n",
      "                  0 .-|||.|-|-|-|-|. 16\n",
      "query             0 G-GGCAGCA-GTC-AG 13\n",
      "\n",
      "target            0 ACGGCTG-ACG-CGAT 14\n",
      "                  0 -.|||.|-|-|-|-|. 16\n",
      "query             0 -GGGCAGCA-GTC-AG 13\n",
      "\n"
     ]
    }
   ],
   "source": [
    "for alignment in alignments_2:\n",
    "\n",
    "    print(alignment)"
   ]
  }
 ],
 "metadata": {
  "kernelspec": {
   "display_name": "Python [conda env:.conda-alignment]",
   "language": "python",
   "name": "conda-env-.conda-alignment-py"
  },
  "language_info": {
   "codemirror_mode": {
    "name": "ipython",
    "version": 3
   },
   "file_extension": ".py",
   "mimetype": "text/x-python",
   "name": "python",
   "nbconvert_exporter": "python",
   "pygments_lexer": "ipython3",
   "version": "3.12.5"
  }
 },
 "nbformat": 4,
 "nbformat_minor": 5
}
