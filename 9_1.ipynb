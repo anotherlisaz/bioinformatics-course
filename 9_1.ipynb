{
 "cells": [
  {
   "cell_type": "markdown",
   "id": "401fc983-6467-40cd-8f0e-e73696ba27f0",
   "metadata": {},
   "source": [
    "### Задание 1"
   ]
  },
  {
   "cell_type": "markdown",
   "id": "d2ee6cec-6e4e-408e-a955-ec73e2eacdc6",
   "metadata": {},
   "source": [
    "Наш данные"
   ]
  },
  {
   "cell_type": "code",
   "execution_count": 1,
   "id": "dda1f7c3-5d0f-4b03-91d2-6885b6ec3397",
   "metadata": {},
   "outputs": [],
   "source": [
    "data = [79, 80, 80, 80, 74, 80, 80, 79, 64, 78, 73, 78, 74, 45, 81, 48, 80, 82, 82, 70]"
   ]
  },
  {
   "cell_type": "code",
   "execution_count": 13,
   "id": "36953acd-d5fa-4fdc-8fdc-ab05e1fa0393",
   "metadata": {},
   "outputs": [],
   "source": [
    "import numpy as np \n",
    "import matplotlib.pyplot as plt\n",
    "import seaborn as sns\n",
    "\n",
    "data = np.array(data)"
   ]
  },
  {
   "cell_type": "markdown",
   "id": "eae30cb0-9b16-4d86-b7d2-6538b7a4a2f0",
   "metadata": {},
   "source": [
    "Получим медиану и квартили"
   ]
  },
  {
   "cell_type": "code",
   "execution_count": 4,
   "id": "ae3b555f-1539-48fa-b89f-bf6145580542",
   "metadata": {},
   "outputs": [
    {
     "name": "stdout",
     "output_type": "stream",
     "text": [
      "Список :  [79 80 80 80 74 80 80 79 64 78 73 78 74 45 81 48 80 82 82 70]\n",
      "Медиана: 79.0\n",
      "Q25: 73.75\n",
      "Q75: 80.0\n"
     ]
    }
   ],
   "source": [
    "median = np.median(data)\n",
    "\n",
    "Q1 = np.quantile(data, 0.25)\n",
    "Q3 = np.quantile(data, 0.75)\n",
    "\n",
    "print(\"Список : \", data)  \n",
    "print(f\"Медиана: {median}\")\n",
    "print(f\"Q25: {Q1}\")\n",
    "print(f\"Q75: {Q3}\")"
   ]
  },
  {
   "cell_type": "markdown",
   "id": "398d64c5-4284-4215-a24a-f1d4d7e56da9",
   "metadata": {},
   "source": [
    "Определим минимум и максимум"
   ]
  },
  {
   "cell_type": "code",
   "execution_count": 19,
   "id": "e963a999-b4c1-49d1-b0fe-8968d6ad4045",
   "metadata": {},
   "outputs": [
    {
     "data": {
      "text/plain": [
       "(45, 82)"
      ]
     },
     "execution_count": 19,
     "metadata": {},
     "output_type": "execute_result"
    }
   ],
   "source": [
    "minimum = min(data)\n",
    "maximum = max(data)\n",
    "minimum, maximum"
   ]
  },
  {
   "cell_type": "markdown",
   "id": "30da9d6d-e64a-4b5b-8485-2926161d6b17",
   "metadata": {},
   "source": [
    "Вычислим межквартильный размах"
   ]
  },
  {
   "cell_type": "code",
   "execution_count": 5,
   "id": "ad5c3694-a74b-4edb-b8a0-89c4fae66627",
   "metadata": {},
   "outputs": [
    {
     "name": "stdout",
     "output_type": "stream",
     "text": [
      "IQR (Межквартильный Диапазон): 6.25\n"
     ]
    }
   ],
   "source": [
    "IQR = Q3 - Q1\n",
    " \n",
    "print(f\"IQR (Межквартильный Диапазон): {IQR}\")"
   ]
  },
  {
   "cell_type": "markdown",
   "id": "790d75e5-ef5b-45d1-91af-14997927957a",
   "metadata": {},
   "source": [
    "Найдем границы \"усов\" и выбросы"
   ]
  },
  {
   "cell_type": "code",
   "execution_count": 7,
   "id": "e377d020-3ac0-42a6-8730-75f9c5d9de96",
   "metadata": {},
   "outputs": [
    {
     "name": "stdout",
     "output_type": "stream",
     "text": [
      "Верхний ус: 82\n",
      "Нижний ус: 70\n",
      "Выбросы: [64 45 48]\n"
     ]
    }
   ],
   "source": [
    "upper_outlier_threshold = Q3 + 1.5 * IQR\n",
    "lower_outlier_threshold = Q1 - 1.5 * IQR\n",
    "\n",
    "outliers = data[(data < lower_outlier_threshold) | (data > upper_outlier_threshold)]\n",
    "upper_whisker = data[data <= upper_outlier_threshold].max()\n",
    "lower_whisker = data[data >= lower_outlier_threshold].min()\n",
    "\n",
    "print(f\"Верхний ус: {upper_whisker}\")\n",
    "print(f\"Нижний ус: {lower_whisker}\")\n",
    "print(f\"Выбросы: {outliers}\")"
   ]
  },
  {
   "cell_type": "markdown",
   "id": "e5ae3d09-8f55-4310-b428-f9fc734dcc44",
   "metadata": {},
   "source": [
    "Построим ящик с усами"
   ]
  },
  {
   "cell_type": "code",
   "execution_count": 14,
   "id": "304fcaba-0fb6-4c3b-97b5-dab06ee40e01",
   "metadata": {},
   "outputs": [
    {
     "data": {
      "image/png": "[encoded data removed]",
      "text/plain": [
       "<Figure size 864x504 with 1 Axes>"
      ]
     },
     "metadata": {
      "needs_background": "light"
     },
     "output_type": "display_data"
    }
   ],
   "source": [
    "plt.figure(figsize=(12, 7))  \n",
    "sns.boxplot(data) \n",
    "plt.title(\"Ящик с усами\")\n",
    "plt.grid(True)\n",
    "plt.show()"
   ]
  }
 ],
 "metadata": {
  "kernelspec": {
   "display_name": "Python 3 (ipykernel)",
   "language": "python",
   "name": "python3"
  },
  "language_info": {
   "codemirror_mode": {
    "name": "ipython",
    "version": 3
   },
   "file_extension": ".py",
   "mimetype": "text/x-python",
   "name": "python",
   "nbconvert_exporter": "python",
   "pygments_lexer": "ipython3",
   "version": "3.8.12"
  }
 },
 "nbformat": 4,
 "nbformat_minor": 5
}
